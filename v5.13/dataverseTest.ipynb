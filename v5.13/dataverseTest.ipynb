{
 "cells": [
  {
   "attachments": {},
   "cell_type": "markdown",
   "metadata": {},
   "source": [
    "# About\n",
    "\n",
    "The purpose of this document is to create a Dataverse API testing notebook, in addition to providing curation workflow for data deposit into a repository (only the deposit and prep portion of the workflow). The tests written for this notebook are being run against Dataverse v5.13.\n",
    "\n",
    "See [_about_dataverseTest.md](./_about_dataverseTest.md) for information about configuring and running this notebook, and the technical details about the notebook (since we didn't want to bog down the notebook with instructions if you know Python).\n",
    "\n",
    "See the `CHANGELOG.md` file for issues needing to be addressed and recent changes."
   ]
  },
  {
   "cell_type": "code",
   "execution_count": 1,
   "metadata": {},
   "outputs": [
    {
     "name": "stdout",
     "output_type": "stream",
     "text": [
      "Requirement already satisfied: Faker in /opt/conda/lib/python3.11/site-packages (28.4.1)\n",
      "Requirement already satisfied: python-dateutil>=2.4 in /opt/conda/lib/python3.11/site-packages (from Faker) (2.9.0)\n",
      "Requirement already satisfied: six>=1.5 in /opt/conda/lib/python3.11/site-packages (from python-dateutil>=2.4->Faker) (1.16.0)\n",
      "Requirement already satisfied: curlify in /opt/conda/lib/python3.11/site-packages (2.2.1)\n",
      "Requirement already satisfied: requests in /opt/conda/lib/python3.11/site-packages (from curlify) (2.31.0)\n",
      "Requirement already satisfied: charset-normalizer<4,>=2 in /opt/conda/lib/python3.11/site-packages (from requests->curlify) (3.3.2)\n",
      "Requirement already satisfied: idna<4,>=2.5 in /opt/conda/lib/python3.11/site-packages (from requests->curlify) (3.6)\n",
      "Requirement already satisfied: urllib3<3,>=1.21.1 in /opt/conda/lib/python3.11/site-packages (from requests->curlify) (2.2.1)\n",
      "Requirement already satisfied: certifi>=2017.4.17 in /opt/conda/lib/python3.11/site-packages (from requests->curlify) (2024.2.2)\n",
      "Collecting git+https://github.com/kuhlaid/DvApiMod5.13\n",
      "  Cloning https://github.com/kuhlaid/DvApiMod5.13 to /tmp/pip-req-build-x1iqihy4\n"
     ]
    },
    {
     "name": "stderr",
     "output_type": "stream",
     "text": [
      "  Running command git clone --filter=blob:none --quiet https://github.com/kuhlaid/DvApiMod5.13 /tmp/pip-req-build-x1iqihy4\n"
     ]
    },
    {
     "name": "stdout",
     "output_type": "stream",
     "text": [
      "  Resolved https://github.com/kuhlaid/DvApiMod5.13 to commit fb7cf1a5d78819b0b4bef8bf3200e42c4e968c19\n",
      "  Installing build dependencies: started\n",
      "  Installing build dependencies: finished with status 'done'\n",
      "  Getting requirements to build wheel: started\n",
      "  Getting requirements to build wheel: finished with status 'done'\n",
      "  Preparing metadata (pyproject.toml): started\n",
      "  Preparing metadata (pyproject.toml): finished with status 'done'\n"
     ]
    },
    {
     "name": "stderr",
     "output_type": "stream",
     "text": [
      "2024-09-16 16:57:27 EST DvApiMod_pip_package [INFO] Finished ObjDvApi init\n",
      "2024-09-16 16:57:27 EST _worker_dataverseTest [INFO] Finished installing and importing modules for the _config_dataverseTest.json environment\n"
     ]
    }
   ],
   "source": [
    "# *** RESTART THE NOTEBOOK KERNEL IF YOU MAKE EDITS TO THE _worker_modTest.py script or configuration ***\n",
    "\n",
    "# run the _installer_dataverseTest.py script and import our _worker_modTest.py script\n",
    "import _installer_dataverseTest\n",
    "# %load_ext autoreload  # do not use this with the 'logger' plugin otherwise duplicate logging messages will appear\n",
    "# %autoreload all\n",
    "from _worker_dataverseTest import Worker\n",
    "# we need the 'autoreload' above if we are actively making changes to the worker.py module and want to reload any changes to the module without restarting the notebook kernel\n",
    "# NOTE: if we make changes to the worker script or configuration we need to rerun this code block for the notebook to use the new edits\n",
    "objWorker = Worker(\"_config_dataverseTest.json\") # initialize our Worker object; we should only need to call this once for the notebook session (working with 'demo' configuration)"
   ]
  },
  {
   "cell_type": "code",
   "execution_count": null,
   "metadata": {},
   "outputs": [],
   "source": [
    "! python --version"
   ]
  },
  {
   "cell_type": "markdown",
   "metadata": {},
   "source": [
    "## About the notebook code\n",
    "\n",
    "The code blocks in this notebook are intentionally brief because most users are not concerned with what the code looks like (at least initially). If you want to know what the scripts do then review the .py files that we imported into this notebook. However we will briefly describe a line of code so you have a general idea of what is happening behind the scenes.\n",
    "\n",
    "The `objWorker.ObjDvApi.DvCreateCollection()` command for example, runs the `DvCreateCollection()` method, which is found in the `ObjDvApi` object, and makes a Dataverse API request to create a new repository/collection. The `ObjDvApi` is simply defined in an external Python file which contains reusable methods for working with the Dataverse API. We use this same class for all of our datasets, so keeping the methods in a single file for reuse is better than manually adding into the code of each of our datasets and making our working code script more densely worded than it needs to be.\n",
    "\n",
    "### The objWorker\n",
    "\n",
    "The `objWorker` is the object that we customize for each dataset and simply acts as a template for importing different classes/objects we want to attach to it. For instance, we attach the `ObjDvApi` to our `objWorker` object so whatever functionality exists in the `ObjDvApi` class can be used in our `objWorker` class. The `.` between `objWorker.ObjDvApi` simply represents that `ObjDvApi` is an extension of `objWorker`. An analogy would be adding a dustpan to a broom (or `broom.dustpan`) to extend the functionality of the broom, so the broom can now be used to pick up dust and not simply push it around.\n",
    "\n",
    "Below are some simple code commands to set up a Dataverse collection."
   ]
  },
  {
   "cell_type": "markdown",
   "metadata": {},
   "source": [
    "## Create a Dataverse Collection\n",
    "\n",
    "### Configuration\n",
    "\n",
    "The `_config_dataverseTest.json` file contains a Dataverse starter object `objDvApi_COLLECTION_START` to create a new Dataverse collection. Luckily we do not need to follow the API documentation that instructs users to create a separate JSON file for use with the API endpoint. Since we added the JSON to our main configuration file we can simply reference the object in the `json` parameter of our request. We will place this collection under the root 'parent' collection.\n",
    "\n",
    "### Retrieving our collection info\n",
    "\n",
    "Since we already have our starter collection information defined in our main `_config_dataverseTest.json` file, there is no need to save the collection information sent back from the creation of our collection. We can always use the `ViewCollection()` method in our worker script to retrieve the collection information as long as we at least know our collection alias."
   ]
  },
  {
   "cell_type": "code",
   "execution_count": null,
   "metadata": {},
   "outputs": [],
   "source": [
    "objWorker.createCollection()  # initialize a new collection"
   ]
  },
  {
   "cell_type": "code",
   "execution_count": null,
   "metadata": {},
   "outputs": [],
   "source": [
    "objWorker.viewCollection()  # view information on our dataverse collection"
   ]
  },
  {
   "cell_type": "code",
   "execution_count": null,
   "metadata": {},
   "outputs": [],
   "source": [
    "objWorker.deleteCollection()  # delete our dataverse collection"
   ]
  },
  {
   "cell_type": "code",
   "execution_count": null,
   "metadata": {},
   "outputs": [],
   "source": [
    "objWorker.viewCollectionContents()  # view dataverse collection contents"
   ]
  },
  {
   "cell_type": "markdown",
   "metadata": {},
   "source": [
    "## Create a dataset\n",
    "\n",
    "Using the https://guides.dataverse.org/en/5.13/_downloads/4e04c8120d51efab20e480c6427f139c/dataset-create-new-all-default-fields.json referenced in https://guides.dataverse.org/en/5.13/api/native-api.html#create-a-dataset-in-a-dataverse-collection, will be our dataset template. We simply add this JSON object to our `_config_dataverseTest.json` file under the `DATAVERSE_DATASET` constant.\n"
   ]
  },
  {
   "cell_type": "code",
   "execution_count": 2,
   "metadata": {},
   "outputs": [
    {
     "name": "stderr",
     "output_type": "stream",
     "text": [
      "2024-09-16 16:57:27 EST _worker_dataverseTest [INFO] start createDataset\n",
      "2024-09-16 16:57:27 EST DvApiMod_pip_package [INFO] start createDataset\n",
      "2024-09-16 16:57:27 EST DvApiMod_pip_package [INFO] making request: https://demo-dataverse.rdmc.unc.edu/api/dataverses/jocoknowfd3/datasets\n",
      "2024-09-16 16:57:27 EST DvApiMod_pip_package [INFO] ----------------------------------------\n",
      "2024-09-16 16:57:27 EST DvApiMod_pip_package [INFO] response status=201\n",
      "2024-09-16 16:57:27 EST DvApiMod_pip_package [INFO] headers={'Date': 'Mon, 16 Sep 2024 20:57:34 GMT', 'Server': 'Apache/2.4.37 (Rocky Linux) OpenSSL/1.1.1k', 'Access-Control-Allow-Origin': '*', 'Access-Control-Allow-Methods': 'PUT, GET, POST, DELETE, OPTIONS', 'Access-Control-Allow-Headers': 'Accept, Content-Type, X-Dataverse-Key, Range', 'Access-Control-Expose-Headers': 'Accept-Ranges, Content-Range, Content-Encoding', 'Location': 'https://demo-dataverse.rdmc.unc.edu/datasets/505', 'Content-Type': 'application/json;charset=UTF-8', 'Content-Length': '74', 'Keep-Alive': 'timeout=5, max=100', 'Connection': 'Keep-Alive'}\n",
      "2024-09-16 16:57:27 EST DvApiMod_pip_package [INFO] json={'status': 'OK', 'data': {'id': 505, 'persistentId': 'doi:10.33563/DMO/ZM0DF7'}}\n",
      "2024-09-16 16:57:27 EST _worker_dataverseTest [INFO] {'status': 'OK', 'data': {'id': 505, 'persistentId': 'doi:10.33563/DMO/ZM0DF7'}}\n",
      "2024-09-16 16:57:27 EST _worker_dataverseTest [INFO] end createDataset\n"
     ]
    }
   ],
   "source": [
    "objWorker.createDataset(\"objDvApi_DATASET_INIT_PART\")  # create a dataset"
   ]
  },
  {
   "cell_type": "code",
   "execution_count": null,
   "metadata": {},
   "outputs": [],
   "source": [
    "objWorker.deleteDataset()  # delete dataset draft"
   ]
  },
  {
   "cell_type": "markdown",
   "metadata": {},
   "source": [
    "## Create fake data\n",
    "\n",
    "Next we need to create some files to test the API."
   ]
  },
  {
   "cell_type": "code",
   "execution_count": null,
   "metadata": {},
   "outputs": [],
   "source": [
    "objWorker.createTestFiles(\"lstTEST_FILES\")"
   ]
  },
  {
   "attachments": {},
   "cell_type": "markdown",
   "metadata": {},
   "source": [
    "## Adding files to the dataset\n",
    "\n",
    "The Dataverse API guide is confusing when it comes to handling files, but we have designed the `ObjDvApi` class to handle this for you. However if you want to know how it works read on.\n",
    "\n",
    "### Adding a file that does not exist in the dataset\n",
    "\n",
    "If adding a new file (based on file name), that does not currently exist in the dataset, then use the `add file` API endpoint. \n",
    "\n",
    "### Replacing a file that exists in the dataset\n",
    "\n",
    "#### A file with the same content exists in the dataset (regardless of metadata)\n",
    "\n",
    "The Dataverse will not allow you to upload a file that currently exists in the dataset with the same MD5 checksum (same content), however you can replace the metadata for the file. To do this you must use the .\n",
    "\n",
    "#### File with differing content (regardless of metadata)\n",
    "\n",
    "If uploading a file that already exists in the dataset you should use the `file replace` API endpoint otherwise using the `add file` endpoint will create a duplicate file in your dataset (which you do not want).\n",
    "\n",
    "When we upload a file to a dataset, it is advisable to check the MD5 hash of the file you are attempting to upload. Our `ObjDvApi` class handles this for you. If the MD5 hash is the same and you upload the file to the dataset, then a new file will be added to the dataset with a file name ending in a number. Thus you will end up with two duplicate files in the dataset with two different names (which you should not do). We have added an MD5 hash checking method to our `ObjDvApi` class that will check for matching MD5 hashes and will use the `file replace` API if files already exist in the dataset.\n",
    "\n",
    "**Note: uploading new files (different MD5 hashes) to a dataset draft with existing files of the same names will result in duplicate files being added, so we need to use the `file replace` API instead for existing files.**"
   ]
  },
  {
   "cell_type": "code",
   "execution_count": null,
   "metadata": {},
   "outputs": [],
   "source": [
    "objWorker.uploadTestFiles(\"lstTEST_FILES\") # initial list of files to upload"
   ]
  },
  {
   "cell_type": "markdown",
   "metadata": {},
   "source": [
    "## Update dataset metadata"
   ]
  },
  {
   "cell_type": "code",
   "execution_count": 3,
   "metadata": {},
   "outputs": [
    {
     "name": "stderr",
     "output_type": "stream",
     "text": [
      "2024-09-16 16:57:27 EST _worker_dataverseTest [INFO] start updateDatasetMetadata\n",
      "2024-09-16 16:57:27 EST DvApiMod_pip_package [INFO] start updateDatasetMD\n",
      "2024-09-16 16:57:27 EST DvApiMod_pip_package [INFO] making request: https://demo-dataverse.rdmc.unc.edu/api/datasets/:persistentId/versions/:draft?persistentId=doi:10.33563/DMO/ZM0DF7\n",
      "2024-09-16 16:57:27 EST DvApiMod_pip_package [INFO] ----------------------------------------\n",
      "2024-09-16 16:57:27 EST DvApiMod_pip_package [INFO] response status=200\n",
      "2024-09-16 16:57:27 EST DvApiMod_pip_package [INFO] headers={'Date': 'Mon, 16 Sep 2024 20:58:04 GMT', 'Server': 'Apache/2.4.37 (Rocky Linux) OpenSSL/1.1.1k', 'Access-Control-Allow-Origin': '*', 'Access-Control-Allow-Methods': 'PUT, GET, POST, DELETE, OPTIONS', 'Access-Control-Allow-Headers': 'Accept, Content-Type, X-Dataverse-Key, Range', 'Access-Control-Expose-Headers': 'Accept-Ranges, Content-Range, Content-Encoding', 'Content-Type': 'application/json;charset=UTF-8', 'Keep-Alive': 'timeout=5, max=100', 'Connection': 'Keep-Alive', 'Transfer-Encoding': 'chunked'}\n",
      "2024-09-16 16:57:27 EST DvApiMod_pip_package [INFO] json={'status': 'OK', 'data': {'id': 165, 'datasetId': 505, 'datasetPersistentId': 'doi:10.33563/DMO/ZM0DF7', 'storageIdentifier': 's3://10.33563/DMO/ZM0DF7', 'versionState': 'DRAFT', 'lastUpdateTime': '2024-09-16T20:58:05Z', 'createTime': '2024-09-16T20:57:34Z', 'fileAccessRequest': False, 'metadataBlocks': {'citation': {'displayName': 'Citation Metadata', 'name': 'citation', 'fields': [{'typeName': 'title', 'multiple': False, 'typeClass': 'primitive', 'value': 'Development of an AI/ML-ready knee ultrasound dataset in a population-based cohort'}, {'typeName': 'alternativeURL', 'multiple': False, 'typeClass': 'primitive', 'value': 'https://jocoknow.vercel.app/docs/datasets/10.7910_DVN_SKP9IB/'}, {'typeName': 'author', 'multiple': True, 'typeClass': 'compound', 'value': [{'authorName': {'typeName': 'authorName', 'multiple': False, 'typeClass': 'primitive', 'value': 'Nelson, Amanda'}, 'authorAffiliation': {'typeName': 'authorAffiliation', 'multiple': False, 'typeClass': 'primitive', 'value': 'University of North Carolina at Chapel Hill'}, 'authorIdentifierScheme': {'typeName': 'authorIdentifierScheme', 'multiple': False, 'typeClass': 'controlledVocabulary', 'value': 'ORCID'}, 'authorIdentifier': {'typeName': 'authorIdentifier', 'multiple': False, 'typeClass': 'primitive', 'value': '0000-0002-9344-7877'}}]}, {'typeName': 'datasetContact', 'multiple': True, 'typeClass': 'compound', 'value': [{'datasetContactName': {'typeName': 'datasetContactName', 'multiple': False, 'typeClass': 'primitive', 'value': 'Gale, William'}, 'datasetContactAffiliation': {'typeName': 'datasetContactAffiliation', 'multiple': False, 'typeClass': 'primitive', 'value': 'University of North Carolina at Chapel Hill'}, 'datasetContactEmail': {'typeName': 'datasetContactEmail', 'multiple': False, 'typeClass': 'primitive', 'value': 'w.patrick.gale@unc.edu'}}]}, {'typeName': 'dsDescription', 'multiple': True, 'typeClass': 'compound', 'value': [{'dsDescriptionValue': {'typeName': 'dsDescriptionValue', 'multiple': False, 'typeClass': 'primitive', 'value': '<h1>About this data</h1>An ultrasound dataset to use in the discovery of ultrasound features associated with pain and radiographic change in KOA is highly innovative and will be a major step forward for the field. These ultrasound images originate from the diverse and inclusive population-based Johnston County Health Study (JoCoHS). This dataset is designed to adhere to FAIR principles and was funded in part by an Administrative Supplement to Improve the AI/ML-Readiness of NIH-Supported Data (3R01AR077060-03S1).'}, 'dsDescriptionDate': {'typeName': 'dsDescriptionDate', 'multiple': False, 'typeClass': 'primitive', 'value': '2024-09-16'}}, {'dsDescriptionValue': {'typeName': 'dsDescriptionValue', 'multiple': False, 'typeClass': 'primitive', 'value': \"<h1>To begin learning about this dataset, visit our <a href='https://jocoknow.vercel.app/docs/datasets/10.7910_DVN_SKP9IB/' target='_blank'>User Guide</a> for an all-in-one document containing statistics and other details to help you work with the data.</h1>\"}, 'dsDescriptionDate': {'typeName': 'dsDescriptionDate', 'multiple': False, 'typeClass': 'primitive', 'value': '2024-09-16'}}]}, {'typeName': 'subject', 'multiple': True, 'typeClass': 'controlledVocabulary', 'value': ['Medicine, Health and Life Sciences']}, {'typeName': 'keyword', 'multiple': True, 'typeClass': 'compound', 'value': [{'keywordValue': {'typeName': 'keywordValue', 'multiple': False, 'typeClass': 'primitive', 'value': 'Body Part'}, 'keywordVocabulary': {'typeName': 'keywordVocabulary', 'multiple': False, 'typeClass': 'primitive', 'value': 'NCIT'}, 'keywordVocabularyURI': {'typeName': 'keywordVocabularyURI', 'multiple': False, 'typeClass': 'primitive', 'value': 'https://ncithesaurus.nci.nih.gov/ncitbrowser/ConceptReport.jsp?dictionary=NCI_Thesaurus&ns=ncit&code=C32221'}}, {'keywordValue': {'typeName': 'keywordValue', 'multiple': False, 'typeClass': 'primitive', 'value': 'Electronic File Name'}, 'keywordVocabulary': {'typeName': 'keywordVocabulary', 'multiple': False, 'typeClass': 'primitive', 'value': 'NCIT'}, 'keywordVocabularyURI': {'typeName': 'keywordVocabularyURI', 'multiple': False, 'typeClass': 'primitive', 'value': 'https://ncithesaurus.nci.nih.gov/ncitbrowser/ConceptReport.jsp?dictionary=NCI_Thesaurus&ns=ncit&code=C171191'}}, {'keywordValue': {'typeName': 'keywordValue', 'multiple': False, 'typeClass': 'primitive', 'value': 'Age'}, 'keywordVocabulary': {'typeName': 'keywordVocabulary', 'multiple': False, 'typeClass': 'primitive', 'value': 'NCIT'}, 'keywordVocabularyURI': {'typeName': 'keywordVocabularyURI', 'multiple': False, 'typeClass': 'primitive', 'value': 'https://ncithesaurus.nci.nih.gov/ncitbrowser/ConceptReport.jsp?dictionary=NCI_Thesaurus&ns=ncit&code=C25150'}}, {'keywordValue': {'typeName': 'keywordValue', 'multiple': False, 'typeClass': 'primitive', 'value': 'Gender'}, 'keywordVocabulary': {'typeName': 'keywordVocabulary', 'multiple': False, 'typeClass': 'primitive', 'value': 'NCIT'}, 'keywordVocabularyURI': {'typeName': 'keywordVocabularyURI', 'multiple': False, 'typeClass': 'primitive', 'value': 'https://ncithesaurus.nci.nih.gov/ncitbrowser/ConceptReport.jsp?dictionary=NCI_Thesaurus&ns=ncit&code=C17357'}}, {'keywordValue': {'typeName': 'keywordValue', 'multiple': False, 'typeClass': 'primitive', 'value': 'Side'}, 'keywordVocabulary': {'typeName': 'keywordVocabulary', 'multiple': False, 'typeClass': 'primitive', 'value': 'NCIT'}, 'keywordVocabularyURI': {'typeName': 'keywordVocabularyURI', 'multiple': False, 'typeClass': 'primitive', 'value': 'https://ncithesaurus.nci.nih.gov/ncitbrowser/ConceptReport.jsp?dictionary=NCI_Thesaurus&ns=ncit&code=C25306'}}, {'keywordValue': {'typeName': 'keywordValue', 'multiple': False, 'typeClass': 'primitive', 'value': 'Study Subject Radiography Report'}, 'keywordVocabulary': {'typeName': 'keywordVocabulary', 'multiple': False, 'typeClass': 'primitive', 'value': 'NCIT'}, 'keywordVocabularyURI': {'typeName': 'keywordVocabularyURI', 'multiple': False, 'typeClass': 'primitive', 'value': 'https://ncithesaurus.nci.nih.gov/ncitbrowser/ConceptReport.jsp?dictionary=NCI_Thesaurus&ns=ncit&code=C115514'}}, {'keywordValue': {'typeName': 'keywordValue', 'multiple': False, 'typeClass': 'primitive', 'value': 'Knee pain (finding)'}, 'keywordVocabulary': {'typeName': 'keywordVocabulary', 'multiple': False, 'typeClass': 'primitive', 'value': 'SNOMED-CT'}, 'keywordVocabularyURI': {'typeName': 'keywordVocabularyURI', 'multiple': False, 'typeClass': 'primitive', 'value': 'https://phinvads.cdc.gov/vads/ViewCodeSystemConcept.action?oid=2.16.840.1.113883.6.96&code=30989003'}}, {'keywordValue': {'typeName': 'keywordValue', 'multiple': False, 'typeClass': 'primitive', 'value': 'Ultrasonography'}, 'keywordVocabulary': {'typeName': 'keywordVocabulary', 'multiple': False, 'typeClass': 'primitive', 'value': 'MeSH'}, 'keywordVocabularyURI': {'typeName': 'keywordVocabularyURI', 'multiple': False, 'typeClass': 'primitive', 'value': 'https://www.ncbi.nlm.nih.gov/mesh/68014463'}}, {'keywordValue': {'typeName': 'keywordValue', 'multiple': False, 'typeClass': 'primitive', 'value': 'Artificial Intelligence'}, 'keywordVocabulary': {'typeName': 'keywordVocabulary', 'multiple': False, 'typeClass': 'primitive', 'value': 'MeSH'}, 'keywordVocabularyURI': {'typeName': 'keywordVocabularyURI', 'multiple': False, 'typeClass': 'primitive', 'value': 'https://www.ncbi.nlm.nih.gov/mesh/68001185'}}]}, {'typeName': 'publication', 'multiple': True, 'typeClass': 'compound', 'value': [{'publicationCitation': {'typeName': 'publicationCitation', 'multiple': False, 'typeClass': 'primitive', 'value': 'Yerich NV, Alvarez C, Schwartz TA, Savage-Guin S, Renner JB, Bakewell CJ, Kohler MJ, Lin J, Samuels J, Nelson AE. A Standardized, Pragmatic Approach to Knee Ultrasound for Clinical Research in Osteoarthritis: The Johnston County Osteoarthritis Project. ACR Open Rheumatol. 2020 Jul;2(7):438-448. doi: 10.1002/acr2.11159. PMID: 32597564; PMCID: PMC7368135.'}, 'publicationIDType': {'typeName': 'publicationIDType', 'multiple': False, 'typeClass': 'controlledVocabulary', 'value': 'pmid'}, 'publicationIDNumber': {'typeName': 'publicationIDNumber', 'multiple': False, 'typeClass': 'primitive', 'value': '32597564'}, 'publicationURL': {'typeName': 'publicationURL', 'multiple': False, 'typeClass': 'primitive', 'value': 'https://doi.org/10.1002/acr2.11159'}}]}, {'typeName': 'language', 'multiple': True, 'typeClass': 'controlledVocabulary', 'value': ['English']}, {'typeName': 'grantNumber', 'multiple': True, 'typeClass': 'compound', 'value': [{'grantNumberAgency': {'typeName': 'grantNumberAgency', 'multiple': False, 'typeClass': 'primitive', 'value': 'NIAMS'}, 'grantNumberValue': {'typeName': 'grantNumberValue', 'multiple': False, 'typeClass': 'primitive', 'value': '3R01AR077060-03S1'}}]}, {'typeName': 'depositor', 'multiple': False, 'typeClass': 'primitive', 'value': 'Gale, William'}, {'typeName': 'dateOfDeposit', 'multiple': False, 'typeClass': 'primitive', 'value': '2024-09-16'}, {'typeName': 'dateOfCollection', 'multiple': True, 'typeClass': 'compound', 'value': [{'dateOfCollectionStart': {'typeName': 'dateOfCollectionStart', 'multiple': False, 'typeClass': 'primitive', 'value': '2019-03-14'}, 'dateOfCollectionEnd': {'typeName': 'dateOfCollectionEnd', 'multiple': False, 'typeClass': 'primitive', 'value': '2024-06-01'}}]}, {'typeName': 'kindOfData', 'multiple': True, 'typeClass': 'primitive', 'value': ['survey data', 'clinic data']}, {'typeName': 'otherReferences', 'multiple': True, 'typeClass': 'primitive', 'value': ['Internal reference project #356-dp']}]}}, 'files': []}}\n",
      "2024-09-16 16:57:27 EST _worker_dataverseTest [INFO] {'status': 'OK', 'data': {'id': 165, 'datasetId': 505, 'datasetPersistentId': 'doi:10.33563/DMO/ZM0DF7', 'storageIdentifier': 's3://10.33563/DMO/ZM0DF7', 'versionState': 'DRAFT', 'lastUpdateTime': '2024-09-16T20:58:05Z', 'createTime': '2024-09-16T20:57:34Z', 'fileAccessRequest': False, 'metadataBlocks': {'citation': {'displayName': 'Citation Metadata', 'name': 'citation', 'fields': [{'typeName': 'title', 'multiple': False, 'typeClass': 'primitive', 'value': 'Development of an AI/ML-ready knee ultrasound dataset in a population-based cohort'}, {'typeName': 'alternativeURL', 'multiple': False, 'typeClass': 'primitive', 'value': 'https://jocoknow.vercel.app/docs/datasets/10.7910_DVN_SKP9IB/'}, {'typeName': 'author', 'multiple': True, 'typeClass': 'compound', 'value': [{'authorName': {'typeName': 'authorName', 'multiple': False, 'typeClass': 'primitive', 'value': 'Nelson, Amanda'}, 'authorAffiliation': {'typeName': 'authorAffiliation', 'multiple': False, 'typeClass': 'primitive', 'value': 'University of North Carolina at Chapel Hill'}, 'authorIdentifierScheme': {'typeName': 'authorIdentifierScheme', 'multiple': False, 'typeClass': 'controlledVocabulary', 'value': 'ORCID'}, 'authorIdentifier': {'typeName': 'authorIdentifier', 'multiple': False, 'typeClass': 'primitive', 'value': '0000-0002-9344-7877'}}]}, {'typeName': 'datasetContact', 'multiple': True, 'typeClass': 'compound', 'value': [{'datasetContactName': {'typeName': 'datasetContactName', 'multiple': False, 'typeClass': 'primitive', 'value': 'Gale, William'}, 'datasetContactAffiliation': {'typeName': 'datasetContactAffiliation', 'multiple': False, 'typeClass': 'primitive', 'value': 'University of North Carolina at Chapel Hill'}, 'datasetContactEmail': {'typeName': 'datasetContactEmail', 'multiple': False, 'typeClass': 'primitive', 'value': 'w.patrick.gale@unc.edu'}}]}, {'typeName': 'dsDescription', 'multiple': True, 'typeClass': 'compound', 'value': [{'dsDescriptionValue': {'typeName': 'dsDescriptionValue', 'multiple': False, 'typeClass': 'primitive', 'value': '<h1>About this data</h1>An ultrasound dataset to use in the discovery of ultrasound features associated with pain and radiographic change in KOA is highly innovative and will be a major step forward for the field. These ultrasound images originate from the diverse and inclusive population-based Johnston County Health Study (JoCoHS). This dataset is designed to adhere to FAIR principles and was funded in part by an Administrative Supplement to Improve the AI/ML-Readiness of NIH-Supported Data (3R01AR077060-03S1).'}, 'dsDescriptionDate': {'typeName': 'dsDescriptionDate', 'multiple': False, 'typeClass': 'primitive', 'value': '2024-09-16'}}, {'dsDescriptionValue': {'typeName': 'dsDescriptionValue', 'multiple': False, 'typeClass': 'primitive', 'value': \"<h1>To begin learning about this dataset, visit our <a href='https://jocoknow.vercel.app/docs/datasets/10.7910_DVN_SKP9IB/' target='_blank'>User Guide</a> for an all-in-one document containing statistics and other details to help you work with the data.</h1>\"}, 'dsDescriptionDate': {'typeName': 'dsDescriptionDate', 'multiple': False, 'typeClass': 'primitive', 'value': '2024-09-16'}}]}, {'typeName': 'subject', 'multiple': True, 'typeClass': 'controlledVocabulary', 'value': ['Medicine, Health and Life Sciences']}, {'typeName': 'keyword', 'multiple': True, 'typeClass': 'compound', 'value': [{'keywordValue': {'typeName': 'keywordValue', 'multiple': False, 'typeClass': 'primitive', 'value': 'Body Part'}, 'keywordVocabulary': {'typeName': 'keywordVocabulary', 'multiple': False, 'typeClass': 'primitive', 'value': 'NCIT'}, 'keywordVocabularyURI': {'typeName': 'keywordVocabularyURI', 'multiple': False, 'typeClass': 'primitive', 'value': 'https://ncithesaurus.nci.nih.gov/ncitbrowser/ConceptReport.jsp?dictionary=NCI_Thesaurus&ns=ncit&code=C32221'}}, {'keywordValue': {'typeName': 'keywordValue', 'multiple': False, 'typeClass': 'primitive', 'value': 'Electronic File Name'}, 'keywordVocabulary': {'typeName': 'keywordVocabulary', 'multiple': False, 'typeClass': 'primitive', 'value': 'NCIT'}, 'keywordVocabularyURI': {'typeName': 'keywordVocabularyURI', 'multiple': False, 'typeClass': 'primitive', 'value': 'https://ncithesaurus.nci.nih.gov/ncitbrowser/ConceptReport.jsp?dictionary=NCI_Thesaurus&ns=ncit&code=C171191'}}, {'keywordValue': {'typeName': 'keywordValue', 'multiple': False, 'typeClass': 'primitive', 'value': 'Age'}, 'keywordVocabulary': {'typeName': 'keywordVocabulary', 'multiple': False, 'typeClass': 'primitive', 'value': 'NCIT'}, 'keywordVocabularyURI': {'typeName': 'keywordVocabularyURI', 'multiple': False, 'typeClass': 'primitive', 'value': 'https://ncithesaurus.nci.nih.gov/ncitbrowser/ConceptReport.jsp?dictionary=NCI_Thesaurus&ns=ncit&code=C25150'}}, {'keywordValue': {'typeName': 'keywordValue', 'multiple': False, 'typeClass': 'primitive', 'value': 'Gender'}, 'keywordVocabulary': {'typeName': 'keywordVocabulary', 'multiple': False, 'typeClass': 'primitive', 'value': 'NCIT'}, 'keywordVocabularyURI': {'typeName': 'keywordVocabularyURI', 'multiple': False, 'typeClass': 'primitive', 'value': 'https://ncithesaurus.nci.nih.gov/ncitbrowser/ConceptReport.jsp?dictionary=NCI_Thesaurus&ns=ncit&code=C17357'}}, {'keywordValue': {'typeName': 'keywordValue', 'multiple': False, 'typeClass': 'primitive', 'value': 'Side'}, 'keywordVocabulary': {'typeName': 'keywordVocabulary', 'multiple': False, 'typeClass': 'primitive', 'value': 'NCIT'}, 'keywordVocabularyURI': {'typeName': 'keywordVocabularyURI', 'multiple': False, 'typeClass': 'primitive', 'value': 'https://ncithesaurus.nci.nih.gov/ncitbrowser/ConceptReport.jsp?dictionary=NCI_Thesaurus&ns=ncit&code=C25306'}}, {'keywordValue': {'typeName': 'keywordValue', 'multiple': False, 'typeClass': 'primitive', 'value': 'Study Subject Radiography Report'}, 'keywordVocabulary': {'typeName': 'keywordVocabulary', 'multiple': False, 'typeClass': 'primitive', 'value': 'NCIT'}, 'keywordVocabularyURI': {'typeName': 'keywordVocabularyURI', 'multiple': False, 'typeClass': 'primitive', 'value': 'https://ncithesaurus.nci.nih.gov/ncitbrowser/ConceptReport.jsp?dictionary=NCI_Thesaurus&ns=ncit&code=C115514'}}, {'keywordValue': {'typeName': 'keywordValue', 'multiple': False, 'typeClass': 'primitive', 'value': 'Knee pain (finding)'}, 'keywordVocabulary': {'typeName': 'keywordVocabulary', 'multiple': False, 'typeClass': 'primitive', 'value': 'SNOMED-CT'}, 'keywordVocabularyURI': {'typeName': 'keywordVocabularyURI', 'multiple': False, 'typeClass': 'primitive', 'value': 'https://phinvads.cdc.gov/vads/ViewCodeSystemConcept.action?oid=2.16.840.1.113883.6.96&code=30989003'}}, {'keywordValue': {'typeName': 'keywordValue', 'multiple': False, 'typeClass': 'primitive', 'value': 'Ultrasonography'}, 'keywordVocabulary': {'typeName': 'keywordVocabulary', 'multiple': False, 'typeClass': 'primitive', 'value': 'MeSH'}, 'keywordVocabularyURI': {'typeName': 'keywordVocabularyURI', 'multiple': False, 'typeClass': 'primitive', 'value': 'https://www.ncbi.nlm.nih.gov/mesh/68014463'}}, {'keywordValue': {'typeName': 'keywordValue', 'multiple': False, 'typeClass': 'primitive', 'value': 'Artificial Intelligence'}, 'keywordVocabulary': {'typeName': 'keywordVocabulary', 'multiple': False, 'typeClass': 'primitive', 'value': 'MeSH'}, 'keywordVocabularyURI': {'typeName': 'keywordVocabularyURI', 'multiple': False, 'typeClass': 'primitive', 'value': 'https://www.ncbi.nlm.nih.gov/mesh/68001185'}}]}, {'typeName': 'publication', 'multiple': True, 'typeClass': 'compound', 'value': [{'publicationCitation': {'typeName': 'publicationCitation', 'multiple': False, 'typeClass': 'primitive', 'value': 'Yerich NV, Alvarez C, Schwartz TA, Savage-Guin S, Renner JB, Bakewell CJ, Kohler MJ, Lin J, Samuels J, Nelson AE. A Standardized, Pragmatic Approach to Knee Ultrasound for Clinical Research in Osteoarthritis: The Johnston County Osteoarthritis Project. ACR Open Rheumatol. 2020 Jul;2(7):438-448. doi: 10.1002/acr2.11159. PMID: 32597564; PMCID: PMC7368135.'}, 'publicationIDType': {'typeName': 'publicationIDType', 'multiple': False, 'typeClass': 'controlledVocabulary', 'value': 'pmid'}, 'publicationIDNumber': {'typeName': 'publicationIDNumber', 'multiple': False, 'typeClass': 'primitive', 'value': '32597564'}, 'publicationURL': {'typeName': 'publicationURL', 'multiple': False, 'typeClass': 'primitive', 'value': 'https://doi.org/10.1002/acr2.11159'}}]}, {'typeName': 'language', 'multiple': True, 'typeClass': 'controlledVocabulary', 'value': ['English']}, {'typeName': 'grantNumber', 'multiple': True, 'typeClass': 'compound', 'value': [{'grantNumberAgency': {'typeName': 'grantNumberAgency', 'multiple': False, 'typeClass': 'primitive', 'value': 'NIAMS'}, 'grantNumberValue': {'typeName': 'grantNumberValue', 'multiple': False, 'typeClass': 'primitive', 'value': '3R01AR077060-03S1'}}]}, {'typeName': 'depositor', 'multiple': False, 'typeClass': 'primitive', 'value': 'Gale, William'}, {'typeName': 'dateOfDeposit', 'multiple': False, 'typeClass': 'primitive', 'value': '2024-09-16'}, {'typeName': 'dateOfCollection', 'multiple': True, 'typeClass': 'compound', 'value': [{'dateOfCollectionStart': {'typeName': 'dateOfCollectionStart', 'multiple': False, 'typeClass': 'primitive', 'value': '2019-03-14'}, 'dateOfCollectionEnd': {'typeName': 'dateOfCollectionEnd', 'multiple': False, 'typeClass': 'primitive', 'value': '2024-06-01'}}]}, {'typeName': 'kindOfData', 'multiple': True, 'typeClass': 'primitive', 'value': ['survey data', 'clinic data']}, {'typeName': 'otherReferences', 'multiple': True, 'typeClass': 'primitive', 'value': ['Internal reference project #356-dp']}]}}, 'files': []}}\n",
      "2024-09-16 16:57:27 EST _worker_dataverseTest [INFO] end updateDatasetMetadata\n"
     ]
    }
   ],
   "source": [
    "objWorker.updateDatasetMetadata(\"objDvApi_DATASET_UPDATE\")  # update dataset metadata"
   ]
  },
  {
   "cell_type": "markdown",
   "metadata": {},
   "source": [
    "## Publish dataset\n",
    "\n",
    "https://guides.dataverse.org/en/5.13/api/native-api.html#publish-a-dataset"
   ]
  },
  {
   "cell_type": "code",
   "execution_count": null,
   "metadata": {},
   "outputs": [],
   "source": [
    "objWorker.publishDatasetDraft(\"major\") # we need to determine if the dataverse is published before trying to publish it again"
   ]
  },
  {
   "cell_type": "markdown",
   "metadata": {},
   "source": [
    "## Dataset version test\n",
    "\n",
    "Next we will create another set of test files and use them to update the dataset version."
   ]
  },
  {
   "cell_type": "code",
   "execution_count": null,
   "metadata": {},
   "outputs": [],
   "source": [
    "objWorker.createTestFiles(\"lstTEST_FILES2\")"
   ]
  },
  {
   "cell_type": "markdown",
   "metadata": {},
   "source": [
    "## Create empty draft dataset\n",
    "\n",
    "This is the best action to take when you want to ensure a clean dataset draft with no files from the last published version of the dataset needing to be replaced by incoming files. The `createEmptyDatasetDraft` method uploads an empty file to the dataset to initiate a new draft state for the dataset (if it does not already exist), then queries the dataset for the current files found in the draft state, then removes all files in the draft state. From here you have an empty dataset draft for importing the newest files for your dataset.\n",
    "\n",
    "As some background, this method was created to resolve the problem of some types of files (such as zip files) failing to replace existing zip files in the dataset. This problem may occur with other files as well so simply using this method will aleviate the need for file replacement and issues with that API endpoint."
   ]
  },
  {
   "cell_type": "code",
   "execution_count": null,
   "metadata": {},
   "outputs": [],
   "source": [
    "objWorker.createEmptyDatasetDraft()"
   ]
  },
  {
   "cell_type": "code",
   "execution_count": null,
   "metadata": {},
   "outputs": [],
   "source": [
    "objWorker.uploadTestFiles(\"lstTEST_FILES2\")"
   ]
  },
  {
   "cell_type": "markdown",
   "metadata": {},
   "source": [
    "## List files in a dataset\n",
    "\n",
    "Once we have added our new files to the dataset we want to see a list of all files in the draft (make sure to use one of the version specifiers listed in https://guides.dataverse.org/en/latest/api/native-api.html#dataset-version-specifiers)."
   ]
  },
  {
   "cell_type": "code",
   "execution_count": null,
   "metadata": {},
   "outputs": [],
   "source": [
    "objWorker.viewDatasetFiles(\":draft\")  # show dataset contents of our draft since this is the version we are interested in for testing"
   ]
  },
  {
   "cell_type": "code",
   "execution_count": null,
   "metadata": {},
   "outputs": [],
   "source": []
  }
 ],
 "metadata": {
  "kernelspec": {
   "display_name": "Python 3 (ipykernel)",
   "language": "python",
   "name": "python3"
  },
  "language_info": {
   "codemirror_mode": {
    "name": "ipython",
    "version": 3
   },
   "file_extension": ".py",
   "mimetype": "text/x-python",
   "name": "python",
   "nbconvert_exporter": "python",
   "pygments_lexer": "ipython3",
   "version": "3.11.8"
  }
 },
 "nbformat": 4,
 "nbformat_minor": 4
}
